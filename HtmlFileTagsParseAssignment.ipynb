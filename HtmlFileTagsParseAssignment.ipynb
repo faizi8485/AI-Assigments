{
 "cells": [
  {
   "cell_type": "code",
   "execution_count": 1,
   "metadata": {},
   "outputs": [
    {
     "name": "stdout",
     "output_type": "stream",
     "text": [
      "The file has about 81 words.\n",
      "The file has about 65 space character\n",
      "The file has about 515 nonspace character\n",
      "The file has about 0 tabs\n",
      "The file has about 37 lines\n",
      "The file hasa bout 3 paragraph\n"
     ]
    }
   ],
   "source": [
    "'''input the name of filename and print \n",
    "number of words in the file\n",
    "number of lines in the file (\\n , \\n\\r, \\r)\n",
    "number of non-space character in the files\n",
    "number of spaces in the file\n",
    "number of tabs in the file \\t\n",
    "number of paragraph in the file ( multiple blank spaces (grether than  2 space)\n",
    "  just after a line break after the last line)\n",
    "submission instruction \n",
    "github link of notebook with output\n",
    "\n",
    "---------------------\n",
    "input the name of html file name and print\n",
    "tags names used in the file and the count of tags\n",
    "submission instruction: \n",
    "github link of notebook with output'''\n",
    "\n",
    "\n",
    "def count_words():\n",
    "    \"\"\"Count the approximate number of words in a file.\"\"\"\n",
    "    try:\n",
    "        with open('example_html_file.html',encoding=\"utf8\") as f_obj:  \n",
    "            contents = f_obj.read()\n",
    "    except FileNotFoundError:\n",
    "        msg = \"Sorry, the file   does not exist.\"\n",
    "        print(msg)\n",
    "    else:\n",
    "        # Count approximate number of words in the file.\n",
    "        words = contents.split()\n",
    "        num_words = len(words)       \n",
    "        print(\"The file has about \" + str(num_words) + \" words.\" )\n",
    "     \n",
    "    \n",
    "    # \"\"\"Count the approximate number of space and non-space character in a file.\"\"\"\n",
    "    \n",
    "        nonspace=0\n",
    "        space = 0\n",
    "        for a in contents:\n",
    "            if a== ' ':\n",
    "                space=space+1\n",
    "            else:\n",
    "                nonspace+=1\n",
    "        print('The file has about',space,'space character')\n",
    "        print('The file has about',nonspace,'nonspace character')\n",
    "    \n",
    "  \n",
    "     #\"\"\"Count the approximate number of tabs in a file.\"\"\"\n",
    "    \n",
    "        \n",
    "        tabs= 0\n",
    "        for tab in contents:\n",
    "            if tab == '\\t': \n",
    "                tabs=tabs+1\n",
    "        print('The file has about',tabs, 'tabs')\n",
    "    \n",
    "\n",
    "     #\"\"\"Count the approximate number of lines in a file.\"\"\"\n",
    "        \n",
    "        lines= 0\n",
    "        for line in contents:\n",
    "            if line== '\\n' or line=='\\r':\n",
    "                lines=lines+1\n",
    "        print('The file has about',lines, 'lines')\n",
    "        \n",
    "          \n",
    "    #\"\"\"Count the approximate number of parapgraph in a file.\"\"\"      \n",
    "        \n",
    "        find_para = contents.splitlines()\n",
    "        para = 0\n",
    "        for i in find_para:\n",
    "            if i == '':\n",
    "                para += 1\n",
    "        print('The file hasa bout',para, 'paragraph')\n",
    "\n",
    "\n",
    "count_words()\n"
   ]
  },
  {
   "cell_type": "code",
   "execution_count": null,
   "metadata": {},
   "outputs": [],
   "source": []
  }
 ],
 "metadata": {
  "kernelspec": {
   "display_name": "Python 3",
   "language": "python",
   "name": "python3"
  },
  "language_info": {
   "codemirror_mode": {
    "name": "ipython",
    "version": 3
   },
   "file_extension": ".py",
   "mimetype": "text/x-python",
   "name": "python",
   "nbconvert_exporter": "python",
   "pygments_lexer": "ipython3",
   "version": "3.7.1"
  }
 },
 "nbformat": 4,
 "nbformat_minor": 2
}
