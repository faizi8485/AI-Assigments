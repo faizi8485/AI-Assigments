{
 "cells": [
  {
   "cell_type": "code",
   "execution_count": 1,
   "metadata": {},
   "outputs": [
    {
     "name": "stdout",
     "output_type": "stream",
     "text": [
      "Input the radius of the circle :2\n",
      "Area of circle is 12.56\n"
     ]
    }
   ],
   "source": [
    "pi = 3.14\n",
    "r = float(input ('Input the radius of the circle :' ))\n",
    "print('Area of circle is '+ str(pi*r**2) )"
   ]
  },
  {
   "cell_type": "code",
   "execution_count": 4,
   "metadata": {},
   "outputs": [
    {
     "name": "stdout",
     "output_type": "stream",
     "text": [
      "Enter a number to check : 1\n",
      "The number is positive\n"
     ]
    }
   ],
   "source": [
    "#Write a Python program to check if a number is positive, negative or zer\n",
    "\n",
    "check_number = float(input('Enter a number to check : '))\n",
    "if check_number > 0:\n",
    "    print (\"The number is positive\")\n",
    "elif check_number < 0 :\n",
    "    print (\"The number is negative\")\n",
    "else:\n",
    "    print (\"The number is Zero\")\n",
    "    "
   ]
  },
  {
   "cell_type": "code",
   "execution_count": 10,
   "metadata": {},
   "outputs": [
    {
     "name": "stdout",
     "output_type": "stream",
     "text": [
      "False\n",
      "True\n",
      "True\n"
     ]
    }
   ],
   "source": [
    "#Write a Python function to check whether a number is completely divisible by another number. \n",
    "#Accept two integer values form the user\n",
    "\n",
    "def check_div (m, n):\n",
    "    return m%n==0\n",
    "print (check_div(19,2))\n",
    "print (check_div(24,3))\n",
    "print (check_div(100,10))"
   ]
  },
  {
   "cell_type": "code",
   "execution_count": 6,
   "metadata": {},
   "outputs": [
    {
     "name": "stdout",
     "output_type": "stream",
     "text": [
      "Input value of n : 5\n",
      "615.0\n"
     ]
    }
   ],
   "source": [
    "#Write a Python program that accepts an integer (n) and computes the value of (n + nn + nnn)\n",
    "\n",
    "def cal(n):\n",
    "    n=float (input('Input value of n : '))\n",
    "    nn=n*10+n\n",
    "    nnn = nn+n*100\n",
    "\n",
    "    print (n+nn+nnn)\n",
    "cal(5)"
   ]
  },
  {
   "cell_type": "code",
   "execution_count": 11,
   "metadata": {},
   "outputs": [
    {
     "name": "stdout",
     "output_type": "stream",
     "text": [
      "Input value of n: 89\n",
      "72.0\n"
     ]
    }
   ],
   "source": [
    "#Write a Python program to get the difference between a given number and 17, \n",
    "#difference cannot be negative\n",
    "\n",
    "n = float(input('Input value of n: '))\n",
    "m= 17\n",
    "a=n-m\n",
    "if a>0:\n",
    "    print (a)\n",
    "else:\n",
    "    print(a*-1)\n",
    "    \n",
    "    \n",
    "def dif(n,m=17):\n",
    "    n = float(input('Input value of n: '))\n",
    "    return (abs(n-m))\n",
    "print (dif(n))    "
   ]
  },
  {
   "cell_type": "code",
   "execution_count": 41,
   "metadata": {},
   "outputs": [
    {
     "name": "stdout",
     "output_type": "stream",
     "text": [
      "isabbasi\n",
      "isma\n"
     ]
    }
   ],
   "source": [
    "#Write a Python program to get a new string from a given string\n",
    "#where \"Is\" has been added to the front. \n",
    "#If the given string already begins with \"Is\" then return the string unchanged \n",
    "\n",
    "def isst(n):\n",
    "    if  n[:2] == 'is':\n",
    "        return n\n",
    "    else:\n",
    "        return 'is'+n\n",
    "              \n",
    "print (isst('abbasi')) \n",
    "print(isst('isma'))"
   ]
  },
  {
   "cell_type": "code",
   "execution_count": 42,
   "metadata": {},
   "outputs": [
    {
     "name": "stdout",
     "output_type": "stream",
     "text": [
      "aaa\n",
      "rehan rehan rehan \n"
     ]
    }
   ],
   "source": [
    " #Write a Python program to get a string which is n (non-negative integer) \n",
    "#copies of a given string \n",
    "\n",
    "def copy(n,m):\n",
    "    return(n*m)\n",
    "print (copy('a',3))\n",
    "print (copy('rehan ',3))"
   ]
  },
  {
   "cell_type": "code",
   "execution_count": null,
   "metadata": {},
   "outputs": [],
   "source": []
  },
  {
   "cell_type": "code",
   "execution_count": 10,
   "metadata": {},
   "outputs": [
    {
     "name": "stdout",
     "output_type": "stream",
     "text": [
      "Enter the radius of the circle :6\n",
      "The volume of the Sphere is  : 904.3199999999999\n"
     ]
    }
   ],
   "source": [
    "#Write a Python program to get the volume of a sphere, \n",
    "#please take the radius as input from user. V=4 / 3 πr3 \n",
    "\n",
    "def volume():\n",
    "    pi = 3.14\n",
    "    r = int(input('Enter the radius of the circle :'))\n",
    "    v = 4/3* pi * r**3\n",
    "    return 'The volume of the Sphere is  : '+ str(v)\n",
    "print (volume())"
   ]
  },
  {
   "cell_type": "code",
   "execution_count": 26,
   "metadata": {},
   "outputs": [
    {
     "name": "stdout",
     "output_type": "stream",
     "text": [
      "Entre the number to check even or odd:  6\n",
      "6 is an even number\n"
     ]
    }
   ],
   "source": [
    "#'''Write a Python program to find whether a given number (accept from the user) is even or odd, \n",
    "#print out an appropriate message to the user.'''\n",
    "\n",
    "def checkeo(a=int(input('Entre the number to check even or odd:  '))):\n",
    "    \n",
    "\n",
    "\n",
    "    if a%2==0:\n",
    "        return str(a) + ' is an even number'\n",
    "    else:\n",
    "        return str(a)  + ' is an odd number'\n",
    "        \n",
    "print(checkeo(a=6))\n"
   ]
  },
  {
   "cell_type": "code",
   "execution_count": 27,
   "metadata": {},
   "outputs": [
    {
     "name": "stdout",
     "output_type": "stream",
     "text": [
      "Enter a letter : a\n",
      "a is a vowel\n"
     ]
    }
   ],
   "source": [
    "#Write a Python program to test whether a passed letter is a vowel or not \n",
    "def vcheck():\n",
    "    a= input('Enter a letter : ')\n",
    "    if a in ['a', 'i', 'e', 'o' , 'u']:\n",
    "        return a + ' is a vowel'\n",
    "    else:\n",
    "        return a + ' is not a vowel'\n",
    "print(vcheck())    \n",
    "        "
   ]
  },
  {
   "cell_type": "code",
   "execution_count": 28,
   "metadata": {},
   "outputs": [
    {
     "name": "stdout",
     "output_type": "stream",
     "text": [
      "input the base of triangle: 5\n",
      "input the height of triangle: 6\n",
      "area of trinagle is :15.0\n"
     ]
    }
   ],
   "source": [
    "#Write a Python program that will accept the base and height of a triangle and \n",
    "#compute the area \n",
    "\n",
    "def at():\n",
    "    b= int(input('input the base of triangle: '))\n",
    "    h = int(input('input the height of triangle: '))\n",
    "    a = b*h*0.5\n",
    "    return 'area of trinagle is :' + str(a)\n",
    "\n",
    "print (at())"
   ]
  },
  {
   "cell_type": "code",
   "execution_count": 29,
   "metadata": {},
   "outputs": [
    {
     "name": "stdout",
     "output_type": "stream",
     "text": [
      "True\n",
      "True\n",
      "True\n",
      "False\n"
     ]
    }
   ],
   "source": [
    "# Write a Python program that will return true if the two given integer values\n",
    "#are equal or their sum or difference is 5. \n",
    "\n",
    "def check5(n,m):\n",
    "    return n==m or n-m==5 or n+m == 5\n",
    "print(check5(2,3))\n",
    "print(check5(8,3))\n",
    "print(check5(5,5))\n",
    "print(check5(2,6))"
   ]
  },
  {
   "cell_type": "code",
   "execution_count": 30,
   "metadata": {},
   "outputs": [
    {
     "name": "stdout",
     "output_type": "stream",
     "text": [
      "12722.79\n"
     ]
    }
   ],
   "source": [
    "def fv(pv, rate, n):\n",
    "    return round(pv * (1 + rate/100) ** n,2)\n",
    "print(fv(10000, 3.5, 7))"
   ]
  },
  {
   "cell_type": "code",
   "execution_count": 31,
   "metadata": {},
   "outputs": [
    {
     "name": "stdout",
     "output_type": "stream",
     "text": [
      "6.32\n"
     ]
    }
   ],
   "source": [
    "#Write a Python program to compute the distance between the points (x1, y1) \n",
    "#and (x2, y2)\n",
    "def dist (x1,y1,x2,y2):\n",
    "    return round((((x1-y1)**2) + ((x2-y2)**2))**.5,2)\n",
    "print (dist(4,6,0,6))"
   ]
  },
  {
   "cell_type": "code",
   "execution_count": 32,
   "metadata": {},
   "outputs": [
    {
     "name": "stdout",
     "output_type": "stream",
     "text": [
      "input height in foot: 5\n",
      "input height in inches: 8\n",
      "height in cm :172.72\n"
     ]
    }
   ],
   "source": [
    "#Write a Python program to convert height (in feet and inches) to centimetres\n",
    "\n",
    "def convert():\n",
    "    heightinfeet = int(input('input height in foot: '))\n",
    "    heightininches = int(input('input height in inches: '))\n",
    "    heightincm = (heightinfeet*30.48)+ (heightininches*2.54)\n",
    "    return 'height in cm :'+ str(heightincm)\n",
    "print (convert())"
   ]
  },
  {
   "cell_type": "code",
   "execution_count": 33,
   "metadata": {},
   "outputs": [
    {
     "name": "stdout",
     "output_type": "stream",
     "text": [
      "5.0\n",
      "5.66\n"
     ]
    }
   ],
   "source": [
    "#Write a Python program to calculate the hypotenuse of a right angled triangle \n",
    "# (ab**2 + bc**2)**.5\n",
    "\n",
    "def hp(ab,bc):\n",
    "    return (ab**2 + bc**2)**.5\n",
    "print (round(hp(4,3),2))\n",
    "print (round(hp(4,4),2))"
   ]
  },
  {
   "cell_type": "code",
   "execution_count": 37,
   "metadata": {},
   "outputs": [
    {
     "name": "stdout",
     "output_type": "stream",
     "text": [
      "Input distance in feet: 1541\n",
      "The distance in inches is 18492 inches\n",
      "The distance in yards is 513.67 yards\n",
      "The distance in miles is 0.29 miles.\n"
     ]
    }
   ],
   "source": [
    "#Write a Python program to convert the distance \n",
    "#(in feet) to inches, yards, and miles. 1 feet = 12 inches, \n",
    "#3 feet = 1 yard, 5280 feet = 1 mile \n",
    "\n",
    "dinfeet = int(input(\"Input distance in feet: \"))\n",
    "dininches = dinfeet * 12\n",
    "dinyards = dinfeet / 3.0\n",
    "dinmiles = dinfeet / 5280.0\n",
    "\n",
    "print(\"The distance in inches is {} inches\".format(dininches))\n",
    "print(\"The distance in yards is\", round(dinyards,2) ,  'yards'  )\n",
    "print(\"The distance in miles is %.2f miles.\" % dinmiles)"
   ]
  },
  {
   "cell_type": "code",
   "execution_count": 38,
   "metadata": {},
   "outputs": [
    {
     "name": "stdout",
     "output_type": "stream",
     "text": [
      "Input days: 1\n",
      "Input hours: 0\n",
      "Input minutes: 0\n",
      "Input seconds: 0\n",
      "The  amounts of seconds 86400\n"
     ]
    }
   ],
   "source": [
    "days = int(input(\"Input days: \")) * 3600 * 24\n",
    "hours = int(input(\"Input hours: \")) * 3600\n",
    "minutes = int(input(\"Input minutes: \")) * 60\n",
    "seconds = int(input(\"Input seconds: \"))\n",
    "\n",
    "time = days + hours + minutes + seconds\n",
    "\n",
    "print(\"The  amounts of seconds\", time)"
   ]
  },
  {
   "cell_type": "code",
   "execution_count": 1,
   "metadata": {},
   "outputs": [
    {
     "name": "stdout",
     "output_type": "stream",
     "text": [
      "please provide number :9\n",
      "45\n"
     ]
    }
   ],
   "source": [
    "#Write a python program to sum of the first n positive integers\n",
    "\n",
    "\n",
    "n= int(input('please provide number :'))\n",
    "m=n+1\n",
    "sum = 0\n",
    "for num in range(m):\n",
    "    sum = sum+num\n",
    "print (sum)"
   ]
  },
  {
   "cell_type": "code",
   "execution_count": 2,
   "metadata": {},
   "outputs": [
    {
     "name": "stdout",
     "output_type": "stream",
     "text": [
      "5\n",
      "7\n",
      "11\n",
      "16\n",
      "16\n"
     ]
    }
   ],
   "source": [
    "#Write a Python program to calculate the sum of the digits in an integer\n",
    "\n",
    "#Write a Python program to calculate the sum of the digits in an integer\n",
    "sumx = 0\n",
    "y = '5245'\n",
    "index=0\n",
    "\n",
    "for x in y:\n",
    "    sumx = sumx+int(y[index])\n",
    "    index+=1\n",
    "    print (sumx)\n",
    "print(sumx)"
   ]
  },
  {
   "cell_type": "code",
   "execution_count": 4,
   "metadata": {},
   "outputs": [
    {
     "name": "stdout",
     "output_type": "stream",
     "text": [
      "The decimal value of 344 is:\n",
      "0b101011000 in binary.\n",
      "0o530 in octal.\n",
      "0x158 in hexadecimal.\n"
     ]
    }
   ],
   "source": [
    "#Write a Python program to convert an integer to Binary, Octal andHexadecimal numbers\n",
    "\n",
    "\n",
    "dec = 344\n",
    "\n",
    "print(\"The decimal value of\",dec,\"is:\")\n",
    "print(bin(dec),\"in binary.\")\n",
    "print(oct(dec),\"in octal.\")\n",
    "print(hex(dec),\"in hexadecimal.\")\n"
   ]
  },
  {
   "cell_type": "code",
   "execution_count": 10,
   "metadata": {},
   "outputs": [
    {
     "name": "stdout",
     "output_type": "stream",
     "text": [
      "The decimal value of the number is 25\n"
     ]
    }
   ],
   "source": [
    "#Write a program to convert binary number to Decimal number\n",
    "b_num = list('11001')\n",
    "value = 0\n",
    "\n",
    "for i in range(len(b_num)):\n",
    "\tdigit = b_num.pop()\n",
    "\tif digit == '1':\n",
    "\t\tvalue = value +  i**2\n",
    "print(\"The decimal value of the number is\", value)"
   ]
  },
  {
   "cell_type": "code",
   "execution_count": 13,
   "metadata": {},
   "outputs": [
    {
     "name": "stdout",
     "output_type": "stream",
     "text": [
      "2\n"
     ]
    }
   ],
   "source": [
    "s= \"faizan\"\n",
    "print (s.count('a'))"
   ]
  },
  {
   "cell_type": "code",
   "execution_count": 30,
   "metadata": {},
   "outputs": [
    {
     "name": "stdout",
     "output_type": "stream",
     "text": [
      "2\n",
      "['a', 'a']\n"
     ]
    }
   ],
   "source": [
    "#.Write a Python program to count the number occurrence of a specific character in a string\n",
    "\n",
    "c=[]\n",
    "for x in 'faizan':\n",
    "    if x=='a':\n",
    "        c.append(x)\n",
    "print(len(c))\n",
    "print (c)"
   ]
  },
  {
   "cell_type": "code",
   "execution_count": 31,
   "metadata": {},
   "outputs": [
    {
     "name": "stdout",
     "output_type": "stream",
     "text": [
      "1\n",
      "2\n"
     ]
    }
   ],
   "source": [
    "#Write a Python program to compute the greatest common divisor (GCD) of two positive integers\n",
    "\n",
    "def gcd(x, y):\n",
    "    gcd = 1\n",
    "    \n",
    "    if x % y == 0:\n",
    "        return y\n",
    "    \n",
    "    for k in range(int(y / 2), 0, -1):\n",
    "        if x % k == 0 and y % k == 0:\n",
    "            gcd = k\n",
    "            break  \n",
    "    return gcd\n",
    "\n",
    "print(gcd(12, 17))\n",
    "print(gcd(4, 6))"
   ]
  },
  {
   "cell_type": "code",
   "execution_count": 36,
   "metadata": {},
   "outputs": [
    {
     "name": "stdout",
     "output_type": "stream",
     "text": [
      "12\n",
      "255\n"
     ]
    }
   ],
   "source": [
    "def lcm(x, y):\n",
    "   if x > y:\n",
    "       z = x\n",
    "   else:\n",
    "       z = y\n",
    "\n",
    "   while(True):\n",
    "       if((z % x == 0) and (z % y == 0)):\n",
    "           lcm = z\n",
    "           break\n",
    "       z += 1\n",
    "\n",
    "   return lcm\n",
    "print(lcm(4, 6))\n",
    "print(lcm(15, 17))\n"
   ]
  },
  {
   "cell_type": "code",
   "execution_count": 38,
   "metadata": {},
   "outputs": [
    {
     "name": "stdout",
     "output_type": "stream",
     "text": [
      "first name : faizan\n",
      "last name: abbasi\n",
      "abbasi faizan\n"
     ]
    }
   ],
   "source": [
    "#Write a Python program which accepts the user's first and last name and\n",
    "#print them in reverse order with a space between them\n",
    "\n",
    "fl = input(\"first name : \")\n",
    "ll = input ('last name: ')\n",
    "print(ll+\" \"+ fl)"
   ]
  },
  {
   "cell_type": "code",
   "execution_count": 57,
   "metadata": {},
   "outputs": [
    {
     "name": "stdout",
     "output_type": "stream",
     "text": [
      "the count of vowel is 9\n",
      "the count of vowel is 14\n"
     ]
    }
   ],
   "source": [
    "#Input a text and count the occurrences of vowels and consonant\n",
    "\n",
    "a= ' muhammad faizan abbasi'\n",
    "\n",
    "b = 0\n",
    "c =0\n",
    "\n",
    "for x in a:\n",
    "    if x == 'a' or x=='i' or x == 'e' or x =='o' or x== 'u':\n",
    "        b +=1\n",
    "    else:\n",
    "        c+=1\n",
    "print ('the count of vowel is', str(b))\n",
    "print ('the count of vowel is', str(c))\n",
    "        "
   ]
  },
  {
   "cell_type": "code",
   "execution_count": 58,
   "metadata": {},
   "outputs": [
    {
     "name": "stdout",
     "output_type": "stream",
     "text": [
      "7\n",
      "1\n"
     ]
    }
   ],
   "source": [
    "#Write a Python program to find the number of notes (Sample of notes: 10,\n",
    "#20, 50, 100, 500, and 1000 ) against an given amount\n",
    "\n",
    "def no_notes(a):\n",
    "  Q = [1000, 500, 100, 50, 20, 10]\n",
    "  x = 0\n",
    "  for i in range(6):\n",
    "    q = Q[i]\n",
    "    x += int(a / q)\n",
    "    a = int(a % q)\n",
    "  if a > 0:\n",
    "    x = -1\n",
    "  return x\n",
    "print(no_notes(880))\n",
    "print(no_notes(1000))\n",
    "\n"
   ]
  },
  {
   "cell_type": "code",
   "execution_count": 1,
   "metadata": {},
   "outputs": [
    {
     "name": "stdout",
     "output_type": "stream",
     "text": [
      "No\n"
     ]
    }
   ],
   "source": [
    "#Write a program to check whether given input is palindrome or not \n",
    "a = \"madamm\"\n",
    "if a[::-1]== a:\n",
    "    print(\"yes its palindrome\")\n",
    "else:\n",
    "    print ('No')\n",
    "    "
   ]
  },
  {
   "cell_type": "code",
   "execution_count": 1,
   "metadata": {},
   "outputs": [
    {
     "name": "stdout",
     "output_type": "stream",
     "text": [
      "(23232, 4)\n",
      "(9339, 2)\n"
     ]
    }
   ],
   "source": [
    "#Write a Python program to reverse the digits of a given number and add it to the original, \n",
    "#If the sum is not a palindrome repeat this procedure \n",
    "\n",
    "def revnumber(a):\n",
    "    s=0\n",
    "    while True:\n",
    "        k = str(a)\n",
    "        if k == k[::-1]:\n",
    "            break\n",
    "        else:\n",
    "            m =int(k[::-1])\n",
    "            a +=m\n",
    "            s +=1\n",
    "    return a,s\n",
    "    \n",
    "print (revnumber(678))\n",
    "print (revnumber(1473))"
   ]
  },
  {
   "cell_type": "code",
   "execution_count": 3,
   "metadata": {},
   "outputs": [
    {
     "name": "stdout",
     "output_type": "stream",
     "text": [
      "[1, 1, 2, 3, 5, 8, 13, 21, 34]\n"
     ]
    }
   ],
   "source": [
    "#Write a Python program to get the Fibonacci series between 0 to 50 \n",
    "a = [1,1]\n",
    "\n",
    "i = 0\n",
    "j = 1\n",
    "\n",
    "for c in a:\n",
    "    if len(a) == 9:\n",
    "        break\n",
    "    else:\n",
    "        c=a[i] + a[j]\n",
    "        a.append (c)\n",
    "        i +=1\n",
    "        j +=1\n",
    "print (a)\n",
    "    "
   ]
  },
  {
   "cell_type": "code",
   "execution_count": 4,
   "metadata": {},
   "outputs": [
    {
     "name": "stdout",
     "output_type": "stream",
     "text": [
      "1\n",
      "1\n",
      "2\n",
      "3\n",
      "5\n",
      "8\n",
      "13\n",
      "21\n",
      "34\n"
     ]
    }
   ],
   "source": [
    "x,y=0,1\n",
    "\n",
    "while y<50:\n",
    "    print(y)\n",
    "    x,y = y,x+y"
   ]
  },
  {
   "cell_type": "code",
   "execution_count": 5,
   "metadata": {},
   "outputs": [
    {
     "name": "stdout",
     "output_type": "stream",
     "text": [
      "2  x  1  = 2\n",
      "2  x  2  = 4\n",
      "2  x  3  = 6\n",
      "2  x  4  = 8\n",
      "2  x  5  = 10\n",
      "2  x  6  = 12\n",
      "2  x  7  = 14\n",
      "2  x  8  = 16\n",
      "2  x  9  = 18\n",
      "2  x  10  = 20\n",
      "None\n",
      "10  x  1  = 10\n",
      "10  x  2  = 20\n",
      "10  x  3  = 30\n",
      "10  x  4  = 40\n",
      "10  x  5  = 50\n",
      "10  x  6  = 60\n",
      "10  x  7  = 70\n",
      "10  x  8  = 80\n",
      "10  x  9  = 90\n",
      "10  x  10  = 100\n",
      "None\n"
     ]
    }
   ],
   "source": [
    "#Write a Python program to create the multiplication table (from 1 to 10) of a number \n",
    "\n",
    "def table(a):\n",
    "\n",
    "    for i in range(1,11):\n",
    "        print (a, \" x \",i,\" =\",  a*i)\n",
    "print (table(2))\n",
    "print (table(10))"
   ]
  },
  {
   "cell_type": "code",
   "execution_count": 23,
   "metadata": {},
   "outputs": [
    {
     "name": "stdout",
     "output_type": "stream",
     "text": [
      "2 6 ['P', 'y', 't', 'h', 'o', 'n']\n"
     ]
    }
   ],
   "source": [
    "#Write a Python program that accepts a string and calculate the number of digits and letters \n",
    "#Sample Data : Python 3.2, Expected Output : Letters 6, Digits 2  \n",
    "\n",
    "s = 'Python 3.2'\n",
    "a = []\n",
    "d=0\n",
    "l=0\n",
    "for i in s:\n",
    "    if i.isdigit():\n",
    "        d+=1\n",
    "        \n",
    "    elif i.isalpha():\n",
    "        l+=1\n",
    "        a.append(i)\n",
    "print (d,l,a)\n",
    "\n"
   ]
  },
  {
   "cell_type": "code",
   "execution_count": 24,
   "metadata": {},
   "outputs": [
    {
     "name": "stdout",
     "output_type": "stream",
     "text": [
      "\n",
      "* \n",
      "* * \n",
      "* * * \n",
      "* * * * \n",
      "* * * * * \n",
      "* * * * \n",
      "* * * \n",
      "* * \n",
      "* \n"
     ]
    }
   ],
   "source": [
    "n=5;\n",
    "for i in range(n):\n",
    "    for j in range(i):\n",
    "        print ('* ', end=\"\")\n",
    "    print('')\n",
    "\n",
    "for i in range(n,0,-1):\n",
    "    for j in range(i):\n",
    "        print('* ', end=\"\")\n",
    "    print('')"
   ]
  },
  {
   "cell_type": "code",
   "execution_count": null,
   "metadata": {},
   "outputs": [],
   "source": []
  }
 ],
 "metadata": {
  "kernelspec": {
   "display_name": "Python 3",
   "language": "python",
   "name": "python3"
  },
  "language_info": {
   "codemirror_mode": {
    "name": "ipython",
    "version": 3
   },
   "file_extension": ".py",
   "mimetype": "text/x-python",
   "name": "python",
   "nbconvert_exporter": "python",
   "pygments_lexer": "ipython3",
   "version": "3.7.1"
  }
 },
 "nbformat": 4,
 "nbformat_minor": 2
}
